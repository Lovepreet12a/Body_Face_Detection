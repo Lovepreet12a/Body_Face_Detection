{
 "cells": [
  {
   "cell_type": "markdown",
   "id": "19f9985e",
   "metadata": {},
   "source": [
    "# Face body Detection"
   ]
  },
  {
   "cell_type": "code",
   "execution_count": 1,
   "id": "429c79ac",
   "metadata": {},
   "outputs": [],
   "source": [
    "import warnings\n",
    "warnings.filterwarnings(\"ignore\")"
   ]
  },
  {
   "cell_type": "markdown",
   "id": "57bd2b4b",
   "metadata": {},
   "source": [
    "## Install and import libraries"
   ]
  },
  {
   "cell_type": "code",
   "execution_count": 2,
   "id": "294c7fe1",
   "metadata": {},
   "outputs": [
    {
     "name": "stdout",
     "output_type": "stream",
     "text": [
      "Requirement already satisfied: mediapipe in c:\\users\\lovep\\anaconda3\\envs\\new\\lib\\site-packages (0.8.10.1)\n",
      "Requirement already satisfied: opencv-python in c:\\users\\lovep\\anaconda3\\envs\\new\\lib\\site-packages (4.6.0.66)\n",
      "Requirement already satisfied: numpy in c:\\users\\lovep\\anaconda3\\envs\\new\\lib\\site-packages (from mediapipe) (1.22.4)\n",
      "Requirement already satisfied: opencv-contrib-python in c:\\users\\lovep\\anaconda3\\envs\\new\\lib\\site-packages (from mediapipe) (4.6.0.66)\n",
      "Requirement already satisfied: attrs>=19.1.0 in c:\\users\\lovep\\anaconda3\\envs\\new\\lib\\site-packages (from mediapipe) (21.4.0)\n",
      "Requirement already satisfied: absl-py in c:\\users\\lovep\\anaconda3\\envs\\new\\lib\\site-packages (from mediapipe) (1.2.0)\n",
      "Requirement already satisfied: protobuf<4,>=3.11 in c:\\users\\lovep\\anaconda3\\envs\\new\\lib\\site-packages (from mediapipe) (3.19.4)\n",
      "Requirement already satisfied: matplotlib in c:\\users\\lovep\\anaconda3\\envs\\new\\lib\\site-packages (from mediapipe) (3.4.3)\n",
      "Requirement already satisfied: python-dateutil>=2.7 in c:\\users\\lovep\\anaconda3\\envs\\new\\lib\\site-packages (from matplotlib->mediapipe) (2.8.2)\n",
      "Requirement already satisfied: cycler>=0.10 in c:\\users\\lovep\\anaconda3\\envs\\new\\lib\\site-packages (from matplotlib->mediapipe) (0.11.0)\n",
      "Requirement already satisfied: pillow>=6.2.0 in c:\\users\\lovep\\anaconda3\\envs\\new\\lib\\site-packages (from matplotlib->mediapipe) (9.2.0)\n",
      "Requirement already satisfied: kiwisolver>=1.0.1 in c:\\users\\lovep\\anaconda3\\envs\\new\\lib\\site-packages (from matplotlib->mediapipe) (1.4.2)\n",
      "Requirement already satisfied: pyparsing>=2.2.1 in c:\\users\\lovep\\anaconda3\\envs\\new\\lib\\site-packages (from matplotlib->mediapipe) (3.0.4)\n",
      "Requirement already satisfied: six>=1.5 in c:\\users\\lovep\\anaconda3\\envs\\new\\lib\\site-packages (from python-dateutil>=2.7->matplotlib->mediapipe) (1.16.0)\n"
     ]
    },
    {
     "name": "stderr",
     "output_type": "stream",
     "text": [
      "WARNING: Ignoring invalid distribution -rotobuf (c:\\users\\lovep\\anaconda3\\envs\\new\\lib\\site-packages)\n",
      "WARNING: Ignoring invalid distribution -rotobuf (c:\\users\\lovep\\anaconda3\\envs\\new\\lib\\site-packages)\n",
      "WARNING: Ignoring invalid distribution -rotobuf (c:\\users\\lovep\\anaconda3\\envs\\new\\lib\\site-packages)\n",
      "WARNING: Ignoring invalid distribution -rotobuf (c:\\users\\lovep\\anaconda3\\envs\\new\\lib\\site-packages)\n",
      "WARNING: Ignoring invalid distribution -rotobuf (c:\\users\\lovep\\anaconda3\\envs\\new\\lib\\site-packages)\n",
      "WARNING: Ignoring invalid distribution -rotobuf (c:\\users\\lovep\\anaconda3\\envs\\new\\lib\\site-packages)\n"
     ]
    }
   ],
   "source": [
    "!pip install mediapipe opencv-python"
   ]
  },
  {
   "cell_type": "code",
   "execution_count": 3,
   "id": "aa1acc59",
   "metadata": {},
   "outputs": [],
   "source": [
    "import mediapipe as mp\n",
    "import cv2"
   ]
  },
  {
   "cell_type": "code",
   "execution_count": 4,
   "id": "7e2df55f",
   "metadata": {},
   "outputs": [],
   "source": [
    "mp_drawing = mp.solutions.drawing_utils\n",
    "mp_holistic = mp.solutions.holistic\n",
    "mp_face_mesh = mp.solutions.face_mesh"
   ]
  },
  {
   "cell_type": "markdown",
   "id": "a7978071",
   "metadata": {},
   "source": [
    "## Detection Model"
   ]
  },
  {
   "cell_type": "code",
   "execution_count": 5,
   "id": "c17d7c2e",
   "metadata": {},
   "outputs": [],
   "source": [
    "cap = cv2.VideoCapture(0)\n",
    "#Initiate holistic model\n",
    "with mp_holistic.Holistic(min_detection_confidence=0.5, min_tracking_confidence=0.5) as holistic:\n",
    "\n",
    "    while cap.isOpened():\n",
    "        ret, frame = cap.read()\n",
    "        \n",
    "        # Recolor feed\n",
    "        image = cv2.cvtColor(frame, cv2.COLOR_BGR2RGB) \n",
    "        #image = cv2.resize(image, (1000,1000))\n",
    "        \n",
    "        # Make detections\n",
    "        results = holistic.process(image)\n",
    "        # print(results.face_landmarks)\n",
    "        \n",
    "        # face_landmarks, pose_landmarks, left_hand_landmarks, right_hand_landmarks \n",
    "        \n",
    "        # recolor image back to BGR for rendering\n",
    "        image = cv2.cvtColor(image, cv2.COLOR_RGB2BGR)\n",
    "        \n",
    "        # Face landmarks \n",
    "        mp_drawing.draw_landmarks(image, results.face_landmarks, mp_holistic.FACEMESH_TESSELATION,\n",
    "                                 mp_drawing.DrawingSpec(color=(80,110,30), thickness=1, circle_radius=1),\n",
    "                                 mp_drawing.DrawingSpec(color=(90,220,240), thickness=1, circle_radius=1))\n",
    "        \n",
    "        # Right hand\n",
    "        mp_drawing.draw_landmarks(image, results.right_hand_landmarks, mp_holistic.HAND_CONNECTIONS, \n",
    "                                  mp_drawing.DrawingSpec(color=(70,200,10), thickness=2, circle_radius=4),\n",
    "                                 mp_drawing.DrawingSpec(color=(100,20,180), thickness=2, circle_radius=2))\n",
    "        # Left hand\n",
    "        mp_drawing.draw_landmarks(image, results.left_hand_landmarks, mp_holistic.HAND_CONNECTIONS,\n",
    "                                 mp_drawing.DrawingSpec(color=(70,200,10), thickness=2, circle_radius=4),\n",
    "                                 mp_drawing.DrawingSpec(color=(100,20,180), thickness=2, circle_radius=2))\n",
    "        \n",
    "        # Pose detection\n",
    "        mp_drawing.draw_landmarks(image, results.pose_landmarks, mp_holistic.POSE_CONNECTIONS,\n",
    "                                 mp_drawing.DrawingSpec(color=(30,100,20), thickness=2, circle_radius=4),\n",
    "                                 mp_drawing.DrawingSpec(color=(250,10,240), thickness=2, circle_radius=2))\n",
    "        \n",
    "        \n",
    "        \n",
    "        cv2.imshow(\"Object Detection Model\", image)\n",
    "\n",
    "        if cv2.waitKey(10) & 0xFF == ord(\"q\"):\n",
    "            break\n",
    "        \n",
    "cap.release()\n",
    "cv2.destroyAllWindows()"
   ]
  }
 ],
 "metadata": {
  "kernelspec": {
   "display_name": "Python 3 (ipykernel)",
   "language": "python",
   "name": "python3"
  },
  "language_info": {
   "codemirror_mode": {
    "name": "ipython",
    "version": 3
   },
   "file_extension": ".py",
   "mimetype": "text/x-python",
   "name": "python",
   "nbconvert_exporter": "python",
   "pygments_lexer": "ipython3",
   "version": "3.9.12"
  }
 },
 "nbformat": 4,
 "nbformat_minor": 5
}
